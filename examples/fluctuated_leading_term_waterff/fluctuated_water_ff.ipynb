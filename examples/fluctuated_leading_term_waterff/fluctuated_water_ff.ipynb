{
 "cells": [
  {
   "cell_type": "markdown",
   "id": "9cccf29a",
   "metadata": {},
   "source": [
    "read input pdb and xml files "
   ]
  },
  {
   "cell_type": "code",
   "execution_count": 1,
   "id": "28b869ac",
   "metadata": {},
   "outputs": [
    {
     "name": "stderr",
     "output_type": "stream",
     "text": [
      "2022-06-13 18:58:04.979758: W external/org_tensorflow/tensorflow/stream_executor/platform/default/dso_loader.cc:64] Could not load dynamic library 'libcuda.so.1'; dlerror: libcuda.so.1: cannot open shared object file: No such file or directory; LD_LIBRARY_PATH: /share/apps/Anaconda/anaconda3/lib:/usr/local/cuda-11.4/lib64:/usr/local/cuda-11.4/lib\n",
      "2022-06-13 18:58:04.979797: W external/org_tensorflow/tensorflow/stream_executor/cuda/cuda_driver.cc:269] failed call to cuInit: UNKNOWN ERROR (303)\n",
      "WARNING:absl:No GPU/TPU found, falling back to CPU. (Set TF_CPP_MIN_LOG_LEVEL=0 and rerun for more info.)\n"
     ]
    }
   ],
   "source": [
    "import sys\n",
    "import jax.numpy as jnp\n",
    "import openmm.app as app\n",
    "import openmm.unit as unit\n",
    "from dmff.api import Hamiltonian\n",
    "\n",
    "H = Hamiltonian('forcefield.xml')\n",
    "app.Topology.loadBondDefinitions(\"residues.xml\")\n",
    "pdb = app.PDBFile(\"water_dimer.pdb\")\n",
    "rc = 4"
   ]
  },
  {
   "cell_type": "markdown",
   "id": "f8bf6f57",
   "metadata": {},
   "source": [
    "generator generates parameters and stores\n",
    "create potential function of each composition of energy"
   ]
  },
  {
   "cell_type": "code",
   "execution_count": 2,
   "id": "e955cce2",
   "metadata": {},
   "outputs": [],
   "source": [
    "from dmff.admp.pairwise import generate_pairwise_interaction,TT_damping_qq_c6_kernel\n",
    "\n",
    "disp_generator, pme_generator = H.getGenerators()\n",
    "pot_disp, pot_pme = H.createPotential(pdb.topology, nonbondedCutoff=rc*unit.angstrom, step_pol=5)\n",
    "pot_sr = generate_pairwise_interaction(TT_damping_qq_c6_kernel, disp_generator.disp_pme_force.covalent_map, static_args={})\n",
    "    "
   ]
  },
  {
   "cell_type": "markdown",
   "id": "02792a4e",
   "metadata": {},
   "source": [
    "prepare positions and box"
   ]
  },
  {
   "cell_type": "code",
   "execution_count": 4,
   "id": "ff2b3387",
   "metadata": {},
   "outputs": [],
   "source": [
    "positions = jnp.array(pdb.positions._value) * 10\n",
    "a, b, c = pdb.topology.getPeriodicBoxVectors()\n",
    "box = jnp.array([a._value, b._value, c._value]) * 10"
   ]
  },
  {
   "cell_type": "markdown",
   "id": "b662ca51",
   "metadata": {},
   "source": [
    "consturct neighbourlist "
   ]
  },
  {
   "cell_type": "code",
   "execution_count": 6,
   "id": "bb2af638",
   "metadata": {},
   "outputs": [],
   "source": [
    "from jax_md import space, partition\n",
    "\n",
    "displacement_fn, shift_fn = space.periodic_general(box, fractional_coordinates=False)\n",
    "neighbor_list_fn = partition.neighbor_list(displacement_fn, box, rc, 0, format=partition.OrderedSparse)\n",
    "nbr = neighbor_list_fn.allocate(positions)\n",
    "pairs = nbr.idx.T"
   ]
  },
  {
   "cell_type": "markdown",
   "id": "698c029e",
   "metadata": {},
   "source": [
    "wrap the computation of fluctuated leading terms through a linear model realized by function compute_leading_terms in admp_calculator"
   ]
  },
  {
   "cell_type": "code",
   "execution_count": 8,
   "id": "f74f9f6c",
   "metadata": {},
   "outputs": [],
   "source": [
    "from run import compute_leading_terms\n",
    "\n",
    "c0, c6_list = compute_leading_terms(positions,box) # compute fluctuated leading terms\n",
    "Q_local = pme_generator.params[\"Q_local\"][pme_generator.map_atomtype]\n",
    "Q_local = Q_local.at[:,0].set(c0)"
   ]
  },
  {
   "cell_type": "markdown",
   "id": "6e59f678",
   "metadata": {},
   "source": [
    "initialize the calculator, then use it to get total interaction energy and force"
   ]
  },
  {
   "cell_type": "code",
   "execution_count": null,
   "id": "131a8f3b",
   "metadata": {},
   "outputs": [],
   "source": [
    "from run import *\n",
    "\n",
    "admp_calc = generate_calculator(pot_disp, pot_pme, pot_sr, disp_generator, pme_generator)\n",
    "tot_ene, tot_force = admp_calc(positions, box, pairs)\n"
   ]
  }
 ],
 "metadata": {
  "kernelspec": {
   "display_name": "Python 3 (ipykernel)",
   "language": "python",
   "name": "python3"
  },
  "language_info": {
   "codemirror_mode": {
    "name": "ipython",
    "version": 3
   },
   "file_extension": ".py",
   "mimetype": "text/x-python",
   "name": "python",
   "nbconvert_exporter": "python",
   "pygments_lexer": "ipython3",
   "version": "3.9.12"
  }
 },
 "nbformat": 4,
 "nbformat_minor": 5
}
